{
 "cells": [
  {
   "cell_type": "markdown",
   "metadata": {},
   "source": [
    "## Coffee Analysis for Sourcing"
   ]
  },
  {
   "cell_type": "markdown",
   "metadata": {},
   "source": [
    "### Introduction\n",
    "Coffee is one of the most important drinks humanity could have ever discovered and yet I feel it is also one of the more underappreciated things in regards to the broader population. After watching a bunch of tiktok and youtube short content creators attest to how much \"better-tasting\" coffee could be, I decided to take a leap of faith and try it at home for myself. And oh boy was this a rabbit hole that I never thought I would enjoy immensely or go down into.\n",
    "\n",
    "At first, I was immediately able to taste the difference, flavors being quite smooth, non-bitter, and fruity after dialing in the right grind size. It was absolutely mind bending, \"how could coffee taste this good!\". However, I had a really hard time distinguishing the actual flavor profiles mentioned due to lack of tasting experience. Over time I was able to slowly differentiate some of the flavors (not all) and have been brewing coffee ever since my first buy (5 months to date). But there was always a thought in the back of my mind telling me to question \"what more can you do to brew a better cup?\" \n",
    "\n",
    "This question led me to confronting the most obvious factor in the entire process of making coffee \"the origin\" or for a better term \"sourcing\". Even though I am still a beginner in the space, it is a widely known that growing and processing methods at these coffee farms affect the outcome of the taste as well as the quality. However after some light digging, I was left with some unsatisfaction. Most of the articles put out there are very obscure or don't explain too much on how these factors come into play, or it felt like complete pseudoscience at times. \n",
    "\n",
    "To combat this I decided to take matters into my own hand and try and model something for myself to nail down what factors actually contribute to a good tasting cup of coffee. I told myself - \"Welp, I am in a data science program after all, why not apply the skills I have learned so far and take a stab at it.\" Never have I ever once thought that I would be applying skills I have learned in my career path in this personal of a manner. Damn it! It's just a hobby bro.\n",
    "\n",
    "Before we delve deeper into how I acquire and process the data here's some quick info on gear for those that are interested!"
   ]
  },
  {
   "cell_type": "markdown",
   "metadata": {},
   "source": [
    "### At Home Setup\n",
    "\n",
    "- Chestnut C3 Grinder - TIMEMORE\n",
    "- V60 Dripper - HARIO\n",
    "- Origami Dripper Size M - ORIGAMI\n",
    "- Origami Dripper Air Size S - ORIGAMI\n",
    "- Respective V60 and Origami Filter Papers"
   ]
  },
  {
   "cell_type": "markdown",
   "metadata": {},
   "source": [
    "### Methodology\n",
    "\n",
    "Below we will follow standard steps in data science in defining and mapping out the process I will take.\n",
    "\n",
    "**Objective/Question**\n",
    "1. What factors contribute to a good tasting cup of coffee?\n",
    "2. What specific regions can I nail down my coffee search to for coffee acquisition?\n",
    "\n",
    "**Genreal Steps**\n",
    "1. Acquiring Data\n",
    "2. Exploratory Data Analysis (EDA)\n",
    "3. Data Cleaning\n",
    "4. Data Modeling + Evaluation\n",
    "5. Visualization of Results\n"
   ]
  },
  {
   "cell_type": "code",
   "execution_count": null,
   "metadata": {},
   "outputs": [],
   "source": [
    "# Basic libs\n",
    "import pandas as pd\n",
    "import numpy as np\n",
    "from scipy.stats import *\n",
    "\n",
    "# Plotting libs\n",
    "import matplotlib.pyplot as plt\n",
    "import plotly.express as px\n",
    "import seaborn as sns\n"
   ]
  },
  {
   "cell_type": "markdown",
   "metadata": {},
   "source": [
    "### Data"
   ]
  },
  {
   "cell_type": "markdown",
   "metadata": {},
   "source": [
    "Upon doing some extensive searching, it appears that a lot of coffee data that go into extreme detail are locked behind paywalls. Especially the ones from more official organizations like the Coffee Quality Institute (CQI). I have found the equivalent to what I was searching for on Kaggle, albeit the quality of the data may not be 100% reliable as it was scraped from CQI, but it seemed like the most reliable data I could get.\n",
    "\n",
    "Here is the direct link to the data: [Coffee Quality Data (CQI)](https://www.kaggle.com/datasets/volpatto/coffee-quality-database-from-cqi)"
   ]
  },
  {
   "cell_type": "code",
   "execution_count": null,
   "metadata": {},
   "outputs": [],
   "source": [
    "# reading in the dataset\n",
    "cqi_df = pd.read_csv(\"../Data/cqi_2018/merged_data_cleaned.csv\")\n",
    "cqi_df.drop(columns=['Unnamed: 0'], inplace=True)\n",
    "\n",
    "# Describing dataset\n",
    "cqi_shape = \"{} rows x {} columns\".format(cqi_df.shape[0], cqi_df.shape[1])\n",
    "print(\"Data Frame Shape: \\n\" + cqi_shape + \" \\n\")\n",
    "print(\"Columns: \\n\")\n",
    "print(cqi_df.columns)"
   ]
  },
  {
   "cell_type": "code",
   "execution_count": null,
   "metadata": {},
   "outputs": [],
   "source": [
    "# Preview of data\n",
    "cqi_df.head(2)"
   ]
  },
  {
   "cell_type": "markdown",
   "metadata": {},
   "source": [
    "### Exploratory Data Analysis"
   ]
  },
  {
   "cell_type": "code",
   "execution_count": null,
   "metadata": {},
   "outputs": [],
   "source": [
    "# Helper function for discovery of individual variables and their distributions\n",
    "def quick_hist(df, col_name, asc, head, g_title=None):\n",
    "    temp_counts = df[col_name].value_counts().reset_index(name='Counts').sort_values(['Counts'], ascending=asc)\n",
    "\n",
    "    if head:\n",
    "        temp_counts = temp_counts.head(head)\n",
    "    \n",
    "    #print(\"Tabling\")\n",
    "    #print(temp_counts)\n",
    "    \n",
    "    # Matplot lib\n",
    "    #temp_counts.plot.bar(x=col_name, y='count', rot=0)\n",
    "    #plt.show()\n",
    "\n",
    "    # Plotly\n",
    "    if not g_title:\n",
    "        g_title = f'{col_name} Distribution'\n",
    "\n",
    "    f = px.bar(temp_counts, x=col_name, y='Counts', text='Counts', title=g_title, color=col_name)\n",
    "    f.update_layout(width=800, height=600)\n",
    "\n",
    "    f.show()"
   ]
  },
  {
   "cell_type": "code",
   "execution_count": null,
   "metadata": {},
   "outputs": [],
   "source": [
    "# Tester\n",
    "#quick_hist(cqi_df, 'Species', False, False)\n",
    "#quick_hist(cqi_df, 'Owner', False, 10, 'Top 10 Owner Distribution')\n",
    "\n",
    "# Showcase\n",
    "quick_hist(cqi_df, 'Altitude', False, 10, 'Top 10 Altitude Distribution')\n",
    "quick_hist(cqi_df, 'Harvest.Year', False, 10, 'Top 10 Harvest Years')\n",
    "quick_hist(cqi_df, 'Country.of.Origin', False, 10, 'Top 10 Contry Origins')\n"
   ]
  },
  {
   "cell_type": "code",
   "execution_count": null,
   "metadata": {},
   "outputs": [],
   "source": [
    "# Plotting cup points vs altitude with labels on country of origin\n",
    "\n",
    "# Quick outlier removal for better viewing\n",
    "point_alt_view = cqi_df.copy()\n",
    "\n",
    "z_score_alt = zscore(point_alt_view[\"altitude_high_meters\"], nan_policy='omit')\n",
    "z_score_p = zscore(point_alt_view[\"Total.Cup.Points\"], nan_policy='omit')\n",
    "thresh = 3\n",
    "\n",
    "point_alt_view = point_alt_view[z_score_alt <= (thresh)]\n",
    "point_alt_view = point_alt_view[abs(z_score_p) <= (thresh)]\n",
    "\n",
    "# Plotting\n",
    "fig = px.scatter(point_alt_view, x='altitude_high_meters', y='Total.Cup.Points', title='Altitude High vs Total Cup Points by Country', color='Country.of.Origin')\n",
    "fig.update_layout(width=800, height=600)\n",
    "# Show the plot\n",
    "fig.show()"
   ]
  },
  {
   "cell_type": "markdown",
   "metadata": {},
   "source": [
    "### Data Cleaning"
   ]
  },
  {
   "cell_type": "code",
   "execution_count": null,
   "metadata": {},
   "outputs": [],
   "source": []
  },
  {
   "cell_type": "markdown",
   "metadata": {},
   "source": [
    "### Data Modeling"
   ]
  },
  {
   "cell_type": "code",
   "execution_count": null,
   "metadata": {},
   "outputs": [],
   "source": []
  },
  {
   "cell_type": "markdown",
   "metadata": {},
   "source": [
    "### Visualizations"
   ]
  },
  {
   "cell_type": "code",
   "execution_count": null,
   "metadata": {},
   "outputs": [],
   "source": []
  },
  {
   "cell_type": "markdown",
   "metadata": {},
   "source": [
    "### Thoughts & Conclusions"
   ]
  }
 ],
 "metadata": {
  "kernelspec": {
   "display_name": "Python 3",
   "language": "python",
   "name": "python3"
  },
  "language_info": {
   "codemirror_mode": {
    "name": "ipython",
    "version": 3
   },
   "file_extension": ".py",
   "mimetype": "text/x-python",
   "name": "python",
   "nbconvert_exporter": "python",
   "pygments_lexer": "ipython3",
   "version": "3.10.11"
  }
 },
 "nbformat": 4,
 "nbformat_minor": 2
}
